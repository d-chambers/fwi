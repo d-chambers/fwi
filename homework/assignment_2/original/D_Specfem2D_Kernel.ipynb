{
 "cells": [
  {
   "cell_type": "markdown",
   "id": "acc89a45",
   "metadata": {},
   "source": [
    "# 2D Kernel with SPECFEM2D\n",
    "By Andrea R.  \n",
    "Utility functions written by Ridvan Orsvuran.  \n",
    "Following file structure as in the Seisflows example (By Bryant Chow)"
   ]
  },
  {
   "cell_type": "code",
   "execution_count": null,
   "id": "947323fc",
   "metadata": {},
   "outputs": [],
   "source": [
    "import os\n",
    "import shutil\n",
    "import matplotlib\n",
    "import numpy as np\n",
    "import FunctionsPlotBin\n",
    "import matplotlib.pyplot as plt\n",
    "\n",
    "from UtilityFunctions import read_trace, specfem2D_prep_save_forward, replace_line, save_trace, specfem2D_prep_adjoint, grid\n",
    "from scipy.integrate import simps"
   ]
  },
  {
   "cell_type": "markdown",
   "id": "dcbb904c",
   "metadata": {},
   "source": [
    "# Domain: \n",
    "2D:   \n",
    "x-dir = 4000 m   \n",
    "z-dir = 4000 m   \n",
    "\n",
    "### Source location\n",
    "original x:    1000 m     \n",
    "original z:    2000 m  \n",
    "\n",
    "### Output station location: \n",
    "Station #1   AAS0001                             \n",
    "original x:    3000 m  \n",
    "original z:    2000 m  \n",
    "\n",
    "### Boundary conditions \n",
    "Type: STACEY_ABSORBING_CONDITIONS  \n",
    "absorbbottom                    = true  \n",
    "absorbright                     = true  \n",
    "absorbtop                       = true  \n",
    "absorbleft                      = true  \n",
    "\n",
    "### Velocity model:\n",
    "\n",
    "#### Initial model:  \n",
    "Model: P (or PI) velocity min,max =    3000 m/s              \n",
    "Model: S velocity min,max         =    1800 m/s        \n",
    "Model: density min,max            =    2700 kg/m3           \n",
    "\n",
    "#### True model (~1% perturbation of the Vs - initial model):   \n",
    "Model: P (or PI) velocity min,max =    3000 m/s                \n",
    "Model: S velocity min,max         =    1820 m/s          \n",
    "Model: density min,max            =    2700 kg/m3      "
   ]
  },
  {
   "cell_type": "markdown",
   "id": "28e78a83",
   "metadata": {},
   "source": [
    "### Set Specfem2D and work directories "
   ]
  },
  {
   "cell_type": "code",
   "execution_count": null,
   "id": "fcd32618",
   "metadata": {},
   "outputs": [],
   "source": [
    "specfem2d_path = \"/Users/andreacamilarianoescandon/packages\"\n",
    "EXAMPLE = os.path.join(os.getcwd(),\"Examples\", \"DATA_Example01\")\n",
    "WORKDIR = os.path.join(os.getcwd(),\"work\")\n",
    "\n",
    "# Incase we've run this docs page before, delete the working directory before remaking\n",
    "if os.path.exists(WORKDIR):\n",
    "    shutil.rmtree(WORKDIR)"
   ]
  },
  {
   "cell_type": "code",
   "execution_count": null,
   "id": "e5e98939",
   "metadata": {},
   "outputs": [],
   "source": [
    "# Distribute the necessary file structure of the SPECFEM2D repository that we will reference\n",
    "SPECFEM2D_ORIGINAL = os.path.join(specfem2d_path, \"specfem2d\") \n",
    "SPECFEM2D_BIN_ORIGINAL = os.path.join(SPECFEM2D_ORIGINAL, \"bin\")\n",
    "SPECFEM2D_DATA_ORIGINAL = os.path.join(SPECFEM2D_ORIGINAL, \"DATA\")\n",
    "\n",
    "# The SPECFEM2D working directory that we will create separate from the downloaded repo\n",
    "SPECFEM2D_WORKDIR = os.path.join(WORKDIR, \"ExampleKernel\")\n",
    "SPECFEM2D_BIN = os.path.join(SPECFEM2D_WORKDIR, \"bin\")\n",
    "SPECFEM2D_DATA = os.path.join(SPECFEM2D_WORKDIR, \"DATA\")\n",
    "SPECFEM2D_OUTPUT = os.path.join(SPECFEM2D_WORKDIR, \"OUTPUT_FILES\")\n",
    "\n",
    "# Pre-defined locations of velocity models we will generate using the solver\n",
    "SPECFEM2D_MODEL_INIT = os.path.join(SPECFEM2D_WORKDIR, \"OUTPUT_FILES_INIT\")\n",
    "SPECFEM2D_MODEL_TRUE = os.path.join(SPECFEM2D_WORKDIR, \"OUTPUT_FILES_TRUE\")"
   ]
  },
  {
   "cell_type": "code",
   "execution_count": null,
   "id": "99e39dfe",
   "metadata": {},
   "outputs": [],
   "source": [
    "# Copy the binary files incase we update the source code. These can also be symlinked.\n",
    "shutil.copytree(SPECFEM2D_BIN_ORIGINAL, SPECFEM2D_BIN)\n",
    "\n",
    "# Copy the DATA/ directory\n",
    "shutil.copytree(EXAMPLE, SPECFEM2D_DATA)\n",
    "!pwd\n",
    "!ls"
   ]
  },
  {
   "cell_type": "markdown",
   "id": "78eaf793",
   "metadata": {},
   "source": [
    "### Generate true model"
   ]
  },
  {
   "cell_type": "code",
   "execution_count": null,
   "id": "77cd0263",
   "metadata": {},
   "outputs": [],
   "source": [
    "os.chdir(SPECFEM2D_DATA)\n",
    "specfem2D_prep_save_forward(\"Par_file\")\n",
    "# Modify the Par_file to increase Initial Vs by ~1% \n",
    "replace_line(\"Par_file\",262,'1 1 2700.d0 3000.d0 1820.d0 0 0 9999 9999 0 0 0 0 0 0 \\n')"
   ]
  },
  {
   "cell_type": "code",
   "execution_count": null,
   "id": "da59a1b1",
   "metadata": {},
   "outputs": [],
   "source": [
    "# create the OUTPUT_FILES directory before running \n",
    "os.chdir(SPECFEM2D_WORKDIR)\n",
    "if os.path.exists(SPECFEM2D_OUTPUT):\n",
    "    shutil.rmtree(SPECFEM2D_OUTPUT)\n",
    "os.mkdir(SPECFEM2D_OUTPUT)\n",
    "!ls"
   ]
  },
  {
   "cell_type": "code",
   "execution_count": null,
   "id": "43625670",
   "metadata": {},
   "outputs": [],
   "source": [
    "os.chdir(SPECFEM2D_WORKDIR)\n",
    "!bin/xmeshfem2D > OUTPUT_FILES/mesher_log.txt\n",
    "!bin/xspecfem2D > OUTPUT_FILES/solver_log.txt\n",
    "\n",
    "# Move the model files (*.bin) into the OUTPUT_FILES directory\n",
    "!mv DATA/*bin OUTPUT_FILES\n",
    "\n",
    "# Make sure we don't overwrite this target model when creating our initial model in the next step\n",
    "!mv OUTPUT_FILES OUTPUT_FILES_TRUE\n",
    "\n",
    "!head OUTPUT_FILES_TRUE/solver_log.txt\n",
    "!tail OUTPUT_FILES_TRUE/solver_log.txt"
   ]
  },
  {
   "cell_type": "code",
   "execution_count": null,
   "id": "a5170518",
   "metadata": {},
   "outputs": [],
   "source": [
    "x_coords_file = 'OUTPUT_FILES_TRUE/proc000000_x.bin'\n",
    "z_coords_file = 'OUTPUT_FILES_TRUE/proc000000_z.bin'\n",
    "Vs_true       = 'OUTPUT_FILES_TRUE/proc000000_vs.bin'\n",
    "\n",
    "# Plot \n",
    "FunctionsPlotBin.plotbin(x_coords_file,z_coords_file,Vs_true,SPECFEM2D_WORKDIR+'/Vs_true','Vs_true=m/s')"
   ]
  },
  {
   "cell_type": "markdown",
   "id": "f12e9428",
   "metadata": {},
   "source": [
    "### Generate initial model"
   ]
  },
  {
   "cell_type": "code",
   "execution_count": null,
   "id": "2c2c33e7",
   "metadata": {},
   "outputs": [],
   "source": [
    "os.chdir(SPECFEM2D_DATA)\n",
    "replace_line(\"Par_file\",262,'1 1 2700.d0 3000.d0 1800.d0 0 0 9999 9999 0 0 0 0 0 0 \\n')"
   ]
  },
  {
   "cell_type": "code",
   "execution_count": null,
   "id": "eaa5f21b",
   "metadata": {},
   "outputs": [],
   "source": [
    "# create the OUTPUT_FILES directory before running \n",
    "os.chdir(SPECFEM2D_WORKDIR)\n",
    "if os.path.exists(SPECFEM2D_OUTPUT):\n",
    "    shutil.rmtree(SPECFEM2D_OUTPUT)\n",
    "os.mkdir(SPECFEM2D_OUTPUT)\n",
    "!ls"
   ]
  },
  {
   "cell_type": "code",
   "execution_count": null,
   "id": "bc671c6a",
   "metadata": {},
   "outputs": [],
   "source": [
    "os.chdir(SPECFEM2D_WORKDIR)\n",
    "!bin/xmeshfem2D > OUTPUT_FILES/mesher_log.txt\n",
    "!bin/xspecfem2D > OUTPUT_FILES/solver_log.txt\n",
    "\n",
    "# Move the model files (*.bin) into the OUTPUT_FILES directory\n",
    "# The binary files of the velocity models are stored in DATA after running xspecfem2D\n",
    "!mv DATA/*bin OUTPUT_FILES\n",
    "\n",
    "# Store output files of initial model\n",
    "!mv OUTPUT_FILES OUTPUT_FILES_INIT\n",
    "\n",
    "!head OUTPUT_FILES_INIT/solver_log.txt\n",
    "!tail OUTPUT_FILES_INIT/solver_log.txt"
   ]
  },
  {
   "cell_type": "code",
   "execution_count": null,
   "id": "5ccbbece",
   "metadata": {},
   "outputs": [],
   "source": [
    "x_coords_file = 'OUTPUT_FILES_INIT/proc000000_x.bin'\n",
    "z_coords_file = 'OUTPUT_FILES_INIT/proc000000_z.bin'\n",
    "Vs_true       = 'OUTPUT_FILES_INIT/proc000000_vs.bin'\n",
    "\n",
    "# Plot \n",
    "FunctionsPlotBin.plotbin(x_coords_file,z_coords_file,Vs_true,SPECFEM2D_WORKDIR+'/Vs_init','Vs_init=m/s')"
   ]
  },
  {
   "cell_type": "markdown",
   "id": "e4f9e13f",
   "metadata": {},
   "source": [
    "### 3. Plot synthetic seismogram"
   ]
  },
  {
   "cell_type": "code",
   "execution_count": null,
   "id": "40599251",
   "metadata": {},
   "outputs": [],
   "source": [
    "os.chdir(SPECFEM2D_WORKDIR)\n",
    "# Read synthetic seismogram\n",
    "obsd = read_trace(os.path.join(\"OUTPUT_FILES_TRUE\",\"AA.S0001.BXY.semd\"))\n",
    "synt = read_trace(os.path.join(\"OUTPUT_FILES_INIT\",\"AA.S0001.BXY.semd\"))\n",
    "\n",
    "# Process data\n",
    "obsd.detrend(\"simple\")\n",
    "obsd.taper(0.05)\n",
    "obsd.filter(\"bandpass\", freqmin=0.01, freqmax=20)\n",
    "\n",
    "synt.detrend(\"simple\")\n",
    "synt.taper(0.05)\n",
    "synt.filter(\"bandpass\", freqmin=0.01, freqmax=20)\n",
    "\n",
    "\n",
    "matplotlib.rcParams.update({'font.size': 14})\n",
    "fig, ax = plt.subplots(figsize=(20, 4))\n",
    "# Use the beginning time value from the file: tr.times()+tr.stats.b\n",
    "ax.plot(obsd.times()+obsd.stats.b, obsd.data, \"b\", label=\"Obsd\")\n",
    "ax.plot(synt.times()+synt.stats.b, synt.data, \"r\", label=\"Synt\")\n",
    "ax.set_xlim(synt.stats.b, synt.times()[-1]+synt.stats.b)\n",
    "ax.legend(frameon=False)\n",
    "ax.set_xlabel(\"Time (s)\");\n",
    "ax.set_ylabel(\"Displacement (m)\");\n",
    "ax.tick_params(axis='both',which='major',labelsize=14)"
   ]
  },
  {
   "cell_type": "markdown",
   "id": "f28595a9",
   "metadata": {},
   "source": [
    "### Misfit Calculation and Adjoint Source\n",
    "For one seismogram, waveform misfit is\n",
    "\n",
    "$$ \\chi = \\frac{1}{2} \\int [d(t)-s(t)]^2 dt~, $$\n",
    "\n",
    "\n",
    "and waveform adjoint source is\n",
    "\n",
    "$$  f^\\dagger (t) = s(t) - d(t)~,$$\n",
    "\n",
    "where $s(t)$ is the synthetic, $d(t)$ is the observed seismograms."
   ]
  },
  {
   "cell_type": "code",
   "execution_count": null,
   "id": "11a69869",
   "metadata": {},
   "outputs": [],
   "source": [
    "# Misfit\n",
    "misfit = simps((obsd.data-synt.data)**2, dx=obsd.stats.delta)\n",
    "print(f\"Misfit: {misfit:.6f}\")\n",
    "\n",
    "# Adjoint Source\n",
    "adj = synt.copy()\n",
    "adj.data = synt.data - obsd.data\n",
    "\n",
    "# Process \n",
    "adj.detrend(\"simple\")\n",
    "adj.taper(0.05)\n",
    "adj.filter(\"bandpass\", freqmin=0.01, freqmax=20)"
   ]
  },
  {
   "cell_type": "code",
   "execution_count": null,
   "id": "fb3b1cb3",
   "metadata": {},
   "outputs": [],
   "source": [
    "fig, axes = plt.subplots(nrows=2, sharex=True, figsize=(20, 8))\n",
    "axes[0].plot(obsd.times()+obsd.stats.b, obsd.data, \"b\", label=\"obsd\")\n",
    "axes[0].plot(synt.times()+synt.stats.b, synt.data, \"r\", label=\"synt\")\n",
    "axes[0].set_xlim(obsd.stats.b, obsd.times()[-1]+obsd.stats.b)\n",
    "axes[0].legend()\n",
    "axes[0].legend(frameon=False)\n",
    "axes[0].set_ylabel(\"Displacement (m)\");\n",
    "\n",
    "axes[1].plot(adj.times()+adj.stats.b, adj.data, \"g\", label=\"Adjoint Source\")\n",
    "axes[1].legend()\n",
    "axes[1].legend(frameon=False)\n",
    "axes[1].set_xlabel(\"Time (s)\");\n",
    "ax.tick_params(axis='both',which='major',labelsize=14)\n",
    "matplotlib.rcParams.update({'font.size': 14})"
   ]
  },
  {
   "cell_type": "markdown",
   "id": "3b66b225",
   "metadata": {},
   "source": [
    "### Adjoint simulation"
   ]
  },
  {
   "cell_type": "code",
   "execution_count": null,
   "id": "dfbf67b0",
   "metadata": {},
   "outputs": [],
   "source": [
    "os.chdir(SPECFEM2D_WORKDIR)\n",
    "# Save adjoint source to SEM directory\n",
    "os.makedirs(\"SEM\", exist_ok=True)\n",
    "save_trace(adj, \"SEM/AA.S0001.BXY.adj\")"
   ]
  },
  {
   "cell_type": "markdown",
   "id": "1d00df9f",
   "metadata": {},
   "source": [
    "For adjoint simulation, following `DATA/Par_file` needs be set\n",
    "\n",
    "```toml\n",
    "SIMULATION_TYPE                 = 3\n",
    "# save the last frame, needed for adjoint simulation\n",
    "SAVE_FORWARD                    = .false.\n",
    "```\n",
    "\n",
    "`specfem2D_prep_adjoint` function can be used for this purpose."
   ]
  },
  {
   "cell_type": "code",
   "execution_count": null,
   "id": "fe0d1bd2",
   "metadata": {},
   "outputs": [],
   "source": [
    "# Prepare Par_file\n",
    "os.chdir(SPECFEM2D_DATA)\n",
    "specfem2D_prep_adjoint(\"Par_file\")"
   ]
  },
  {
   "cell_type": "code",
   "execution_count": null,
   "id": "6d4843db",
   "metadata": {},
   "outputs": [],
   "source": [
    "# create the OUTPUT_FILES directory before running and copy \n",
    "# results of OUTPUT_FILES_INIT to the new created OUTPUT_FILES, this is needed\n",
    "# for the adjoint simulation because we saved the last frame in the \n",
    "# forward simulation of the initial model\n",
    "\n",
    "os.chdir(SPECFEM2D_WORKDIR)\n",
    "if os.path.exists(SPECFEM2D_OUTPUT):\n",
    "    shutil.rmtree(SPECFEM2D_OUTPUT)\n",
    "os.mkdir(SPECFEM2D_OUTPUT)\n",
    "!cp OUTPUT_FILES_INIT/* OUTPUT_FILES\n",
    "!ls\n"
   ]
  },
  {
   "cell_type": "code",
   "execution_count": null,
   "id": "74306f8b",
   "metadata": {},
   "outputs": [],
   "source": [
    "os.chdir(SPECFEM2D_WORKDIR)\n",
    "!bin/xmeshfem2D > OUTPUT_FILES/mesher_log.txt\n",
    "!bin/xspecfem2D > OUTPUT_FILES/solver_log.txt\n",
    "\n",
    "# Move the model files (*.bin) into the OUTPUT_FILES directory\n",
    "# The binary files of the velocity models are stored in DATA after running xspecfem2D\n",
    "!mv DATA/*bin OUTPUT_FILES\n",
    "\n",
    "# Make sure we don't overwrite output files \n",
    "!mv OUTPUT_FILES OUTPUT_FILES_ADJ\n",
    "\n",
    "!head OUTPUT_FILES_ADJ/solver_log.txt\n",
    "!tail OUTPUT_FILES_ADJ/solver_log.txt"
   ]
  },
  {
   "cell_type": "markdown",
   "id": "750a46ba",
   "metadata": {},
   "source": [
    "### Plotting the Kernels\n",
    "\n",
    "`./OUTPUT_FILES/proc000000_rhop_alpha_beta_kernel.dat` file holds the kernel data.\n",
    "\n",
    "It is a text file contains 5 columns: `x`, `z`, `rhop`, `alpha`, `beta`."
   ]
  },
  {
   "cell_type": "code",
   "execution_count": null,
   "id": "3c074c91",
   "metadata": {},
   "outputs": [],
   "source": [
    "data = np.loadtxt(\"./OUTPUT_FILES_ADJ/proc000000_rhop_alpha_beta_kernel.dat\")\n",
    "\n",
    "# first column: x\n",
    "x = data[:, 0]\n",
    "# second column: z\n",
    "z = data[:, 1]\n",
    "# fifth column: beta_kernel\n",
    "beta = data[:, 4]\n",
    "\n",
    "# For plotting, you can check: specfem2D/utils/Visualization/plot_kernel.py\n",
    "vmax = 2.5e-9\n",
    "X, Z, BETA = grid(x, z, beta)\n",
    "\n",
    "fig, ax = plt.subplots(figsize=(8, 8))\n",
    "im = ax.imshow(BETA, vmax=vmax, vmin=-vmax, extent=[x.min(), x.max(), z.min(), z.max()],\n",
    "               cmap=\"seismic_r\")\n",
    "ax.set_xlabel(\"X (m)\")\n",
    "ax.set_ylabel(\"Z (m)\")\n",
    "ax.set_title(\"Beta Kernel\")\n",
    "\n",
    "# Plot source and station\n",
    "ax.scatter(1000, 2000, 1000, marker=\"*\", color=\"black\", edgecolor=\"white\")\n",
    "ax.scatter(3000, 2000, 450, marker=\"v\", color=\"black\", edgecolor=\"white\")\n",
    "\n",
    "plt.colorbar(im, ax=ax);\n",
    "ax.tick_params(axis='both',which='major',labelsize=14)\n",
    "matplotlib.rcParams.update({'font.size': 14})"
   ]
  },
  {
   "cell_type": "code",
   "execution_count": null,
   "id": "8f646553",
   "metadata": {},
   "outputs": [],
   "source": []
  }
 ],
 "metadata": {
  "kernelspec": {
   "display_name": "Python 3 (ipykernel)",
   "language": "python",
   "name": "python3"
  },
  "language_info": {
   "codemirror_mode": {
    "name": "ipython",
    "version": 3
   },
   "file_extension": ".py",
   "mimetype": "text/x-python",
   "name": "python",
   "nbconvert_exporter": "python",
   "pygments_lexer": "ipython3",
   "version": "3.9.12"
  }
 },
 "nbformat": 4,
 "nbformat_minor": 5
}
