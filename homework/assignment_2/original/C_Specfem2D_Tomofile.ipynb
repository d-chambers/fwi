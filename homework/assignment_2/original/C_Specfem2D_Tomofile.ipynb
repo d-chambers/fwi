{
 "cells": [
  {
   "cell_type": "markdown",
   "id": "1c0f5057",
   "metadata": {},
   "source": [
    "### Generate tomo_file.xyz and run 2D forward simulation \n",
    "by Andrea R.  \n",
    "Using Checkboard Example - Specfem2D workshop (by Bryant Chow)"
   ]
  },
  {
   "cell_type": "code",
   "execution_count": null,
   "id": "36406b90",
   "metadata": {},
   "outputs": [],
   "source": [
    "import os\n",
    "import shutil\n",
    "import numpy as np\n",
    "import matplotlib.pyplot as plt\n",
    "import FunctionsPlotBin\n",
    "import sys\n",
    "import IPython.display as dp\n",
    "\n",
    "from scipy.interpolate import griddata\n",
    "from PIL import Image"
   ]
  },
  {
   "cell_type": "code",
   "execution_count": null,
   "id": "dc93b237",
   "metadata": {},
   "outputs": [],
   "source": [
    "def plot_checkerboard(x, z, c, label, alpha=1):\n",
    "    \"\"\"Simple re-usable model plotting function\"\"\"\n",
    "    plt.tricontourf(x, z, c, levels=125, cmap=\"seismic_r\", alpha=alpha)\n",
    "    plt.xlabel(\"X, m\")\n",
    "    plt.ylabel(\"Z, m\")\n",
    "    plt.title(\"Checkerboard Model\")\n",
    "    plt.colorbar(label=label)"
   ]
  },
  {
   "cell_type": "code",
   "execution_count": null,
   "id": "fd53cd11",
   "metadata": {},
   "outputs": [],
   "source": [
    "# We are going to use the material properties from the checkboard example - Tape et al. 2007\n",
    "# Values of X, Z, Vs and Vp for plotting \n",
    "chkbd_x, chkbd_z, chkbd_rho, chkbd_vp, chkbd_vs = np.genfromtxt(\"Examples/DATA_Example02/model_velocity.dat_checker\", dtype=float, usecols=[1,2,3,4,5]).T\n",
    "\n",
    "# Let's plot the Vp data \n",
    "plot_checkerboard(chkbd_x, chkbd_z, chkbd_vp, label=\"Vp, m/s\")\n",
    "\n",
    "# Now let's see how data is organized in the .dat file \n",
    "# Data available in .dat file is given on the GLLs (non-regular mesh, distance between GLLs is not regular)\n",
    "plt.figure()\n",
    "plot_checkerboard(chkbd_x, chkbd_z, chkbd_vp, label=\"Vp, m/s\")\n",
    "plt.scatter(chkbd_x,chkbd_z)\n",
    "plt.xlim(0, 50000)\n",
    "plt.ylim(0, 50000)"
   ]
  },
  {
   "cell_type": "code",
   "execution_count": null,
   "id": "5cb106c8",
   "metadata": {},
   "outputs": [],
   "source": [
    "# Generate tomography file for SPECFEM2D\n",
    "\n",
    "# We need to generate a tomography file from model_velocity.dat_checker, the tomography file will \n",
    "# store data points for a REGULAR mesh.\n",
    "\n",
    "# Simulation domain data \n",
    "x_min=np.min(chkbd_x)\n",
    "x_max=np.max(chkbd_x)\n",
    "z_min=np.min(chkbd_z)\n",
    "z_max=np.max(chkbd_z)\n",
    "\n",
    "# Target regular mesh to interpolate to\n",
    "dx = dz= 5000 \n",
    "xg = np.arange(0,x_max+dx,dx)\n",
    "zg = np.arange(0,z_max+dz,dz)\n",
    "xg,zg = np.meshgrid(xg,zg)\n",
    "\n",
    "# Interpolate\n",
    "chkbd_rho_rg = griddata((chkbd_x,chkbd_z),chkbd_rho,(xg,zg),method='linear')\n",
    "chkbd_vp_rg = griddata((chkbd_x,chkbd_z),chkbd_vp,(xg,zg),method='linear')\n",
    "chkbd_vs_rg = griddata((chkbd_x,chkbd_z),chkbd_vs,(xg,zg),method='linear')\n",
    "\n",
    "# Matrix to vector \n",
    "chkbd_rho_rgv=chkbd_rho_rg.flatten()\n",
    "chkbd_vp_rgv=chkbd_vp_rg.flatten()\n",
    "chkbd_vs_rgv=chkbd_vs_rg.flatten()\n",
    "xgv=xg.flatten()\n",
    "zgv=zg.flatten()\n",
    "nx=len(xg)\n",
    "nz=len(zg)\n",
    "\n",
    "# Plot checkboard after generating regular mesh\n",
    "plot_checkerboard(xgv, zgv, chkbd_vp_rgv, label=\"Vp, m/s\")\n",
    "\n",
    "# Now let's see how data is organized in the .dat file \n",
    "# Data available in .dat file is given on the GLLs (non-regular mesh, distance between GLLs is not regular)\n",
    "plt.figure()\n",
    "plot_checkerboard(xgv, zgv, chkbd_vp_rgv, label=\"Vp, m/s\")\n",
    "plt.scatter(xgv,zgv)\n",
    "plt.xlim(0, 50000)\n",
    "plt.ylim(0, 50000)\n",
    "\n",
    "# ---------------------------------------------------------------------\n",
    "# Print tomography file \n",
    "# ---------------------------------------------------------------------\n",
    "fileID=open('tomo_file.xyz','w')\n",
    "\n",
    "# Header lines\n",
    "L1 = format(int(x_min), '10d') + ' ' + format(int(z_min), '10d') + ' ' + format(int(x_max), '10d') + ' ' + format(int(z_max), '10d')\n",
    "L2 = format(int(dx), '10d') + ' ' + format(int(dz), '10d') \n",
    "L3 = format(int(nx), '10d') + ' ' + format(int(nz), '10d') \n",
    "L4 = format(int(np.min(chkbd_vp_rgv)), '10d') + ' ' + format(int(np.max(chkbd_vp_rgv)), '10d') + ' ' + format(int(np.min(chkbd_vs_rgv)), '10d') + ' ' + format(int(np.max(chkbd_vs_rgv)), '10d') + ' ' + format(int(np.min(chkbd_rho_rgv)), '10d') + ' ' + format(int(np.max(chkbd_rho_rgv)), '10d')\n",
    "Header=[L1+ \"\\n\",L2+ \"\\n\",L3+ \"\\n\",L4+ \"\\n\"]\n",
    "fileID.writelines(Header)\n",
    "\n",
    "# Material model lines\n",
    "for i in np.arange(0,nx*nz):\n",
    "    Li= format(int(xgv[i]), '10d') + ' ' + format(int(zgv[i]), '10d')+ ' ' + format(int(chkbd_vp_rgv[i]), '10d')+ ' ' + format(int(chkbd_vs_rgv[i]), '10d')+ ' ' + format(int(chkbd_rho_rgv[i]), '10d') + \"\\n\" \n",
    "    fileID.writelines(Li)\n",
    "fileID.close()\n"
   ]
  },
  {
   "cell_type": "code",
   "execution_count": null,
   "id": "762f19b8",
   "metadata": {},
   "outputs": [],
   "source": [
    "specfem2d_path = \"/Users/andreacamilarianoescandon/packages\"\n",
    "EXAMPLE = os.path.join(os.getcwd(),\"Examples\", \"DATA_Example02\")\n",
    "WORKDIR = os.path.join(os.getcwd(),\"work\")\n",
    "\n",
    "# Incase we've run this docs page before, delete the working directory before remaking\n",
    "if os.path.exists(WORKDIR):\n",
    "    shutil.rmtree(WORKDIR)"
   ]
  },
  {
   "cell_type": "code",
   "execution_count": null,
   "id": "52ae09ae",
   "metadata": {},
   "outputs": [],
   "source": [
    "# Distribute the necessary file structure of the SPECFEM2D repository that we will download/reference\n",
    "SPECFEM2D_ORIGINAL = os.path.join(specfem2d_path, \"specfem2d\") \n",
    "SPECFEM2D_BIN_ORIGINAL = os.path.join(SPECFEM2D_ORIGINAL, \"bin\")\n",
    "SPECFEM2D_DATA_ORIGINAL = os.path.join(SPECFEM2D_ORIGINAL, \"DATA\")\n",
    "\n",
    "# The SPECFEM2D working directory that we will create separate from the downloaded repo\n",
    "SPECFEM2D_WORKDIR = os.path.join(WORKDIR, \"ExampleTomofile\")\n",
    "SPECFEM2D_BIN = os.path.join(SPECFEM2D_WORKDIR, \"bin\")\n",
    "SPECFEM2D_DATA = os.path.join(SPECFEM2D_WORKDIR, \"DATA\")\n",
    "SPECFEM2D_OUTPUT = os.path.join(SPECFEM2D_WORKDIR, \"OUTPUT_FILES\")\n",
    "\n",
    "# Pre-defined locations of velocity models we will generate using the solver\n",
    "SPECFEM2D_MODEL_INIT = os.path.join(SPECFEM2D_WORKDIR, \"OUTPUT_FILES_INIT\")\n",
    "SPECFEM2D_MODEL_TRUE = os.path.join(SPECFEM2D_WORKDIR, \"OUTPUT_FILES_TRUE\")"
   ]
  },
  {
   "cell_type": "code",
   "execution_count": null,
   "id": "f5e90392",
   "metadata": {},
   "outputs": [],
   "source": [
    "# Copy the binary files incase we update the source code. These can also be symlinked.\n",
    "shutil.copytree(SPECFEM2D_BIN_ORIGINAL, SPECFEM2D_BIN)\n",
    "\n",
    "# Copy the DATA/ directory \n",
    "shutil.copytree(EXAMPLE, SPECFEM2D_DATA)\n",
    "\n",
    "# Move tomo_file.xyz to SPECFEM2D_DATA folder\n",
    "shutil.move('tomo_file.xyz',SPECFEM2D_DATA)\n",
    "!ls"
   ]
  },
  {
   "cell_type": "code",
   "execution_count": null,
   "id": "bae8f11b",
   "metadata": {},
   "outputs": [],
   "source": [
    "# create the OUTPUT_FILES directory before running \n",
    "os.chdir(SPECFEM2D_WORKDIR)\n",
    "if os.path.exists(SPECFEM2D_OUTPUT):\n",
    "    shutil.rmtree(SPECFEM2D_OUTPUT)\n",
    "os.mkdir(SPECFEM2D_OUTPUT)\n",
    "\n",
    "# run mesher and solver\n",
    "!bin/xmeshfem2D > OUTPUT_FILES/mesher_log.txt\n",
    "!bin/xspecfem2D > OUTPUT_FILES/solver_log.txt\n",
    "print(\"Completed - Check results in OUTPUT_FILES directory\")"
   ]
  }
 ],
 "metadata": {
  "kernelspec": {
   "display_name": "Python 3 (ipykernel)",
   "language": "python",
   "name": "python3"
  },
  "language_info": {
   "codemirror_mode": {
    "name": "ipython",
    "version": 3
   },
   "file_extension": ".py",
   "mimetype": "text/x-python",
   "name": "python",
   "nbconvert_exporter": "python",
   "pygments_lexer": "ipython3",
   "version": "3.9.12"
  }
 },
 "nbformat": 4,
 "nbformat_minor": 5
}
