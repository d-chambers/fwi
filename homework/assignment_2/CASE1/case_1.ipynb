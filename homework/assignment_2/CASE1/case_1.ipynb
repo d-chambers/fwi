{
 "cells": [
  {
   "cell_type": "markdown",
   "id": "acc89a45",
   "metadata": {},
   "source": [
    "# 2D simulation with SPECFEM2D\n",
    "By Andrea R. using utility functions written by Ridvan Orsvuran"
   ]
  },
  {
   "cell_type": "code",
   "execution_count": null,
   "id": "947323fc",
   "metadata": {},
   "outputs": [],
   "source": [
    "import os\n",
    "import re\n",
    "from subprocess import run\n",
    "\n",
    "import matplotlib.pyplot as plt\n",
    "import numpy as np\n",
    "import obspy\n",
    "import IPython.display as dp\n",
    "from PIL import Image\n",
    "from scipy.integrate import simps\n",
    "\n",
    "import fullwave"
   ]
  },
  {
   "cell_type": "code",
   "execution_count": null,
   "id": "e25cf50a",
   "metadata": {},
   "outputs": [],
   "source": [
    "# Some utility functions (written by Ridvan Orsvuran)\n",
    "def read_trace(filename):\n",
    "    \"\"\"Reads an ASCII file and returns a obspy Traces\"\"\"\n",
    "    data = np.loadtxt(filename)\n",
    "    # first column is time, second column is the data\n",
    "    times = data[:, 0]\n",
    "    disp = data[:, 1]\n",
    "    # get station name from the filename\n",
    "    net, sta, comp, *_ = filename.split(\"/\")[-1].split(\".\")\n",
    "    delta = times[1] - times[0]\n",
    "    headers = {\"station\": sta, \"network\": net, \"channel\": comp, \"delta\": delta, \"b\": times[0]}\n",
    "    return obspy.Trace(disp, headers)\n",
    "\n",
    "def save_trace(tr, filename):\n",
    "    \"\"\"Writes out the traces as an ASCII file. Uses b value as the beginning.\"\"\"\n",
    "    data = np.zeros((len(tr.data), 2))\n",
    "    data[:, 0] = tr.times()+tr.stats.b\n",
    "    data[:, 1] = tr.data\n",
    "    np.savetxt(filename, data)\n",
    "       \n",
    "def specfem_write_parameters(filename, parameters, output_file=None):\n",
    "    \"\"\"Write parameters to a specfem config file\"\"\"\n",
    "\n",
    "    with open(filename) as f:\n",
    "        pars = f.read()\n",
    "\n",
    "    for varname, value in parameters.items():\n",
    "        pat = re.compile(\n",
    "            r\"(^{varname}\\s*=\\s*)([^#$\\s]+)\".format(varname=varname),\n",
    "            re.MULTILINE)\n",
    "        pars = pat.sub(r\"\\g<1>{value}\".format(value=value), pars)\n",
    "\n",
    "    if output_file is None:\n",
    "        output_file = filename\n",
    "\n",
    "    with open(output_file, \"w\") as f:\n",
    "        f.write(pars)     \n",
    "        \n",
    "def specfem2D_prep_save_forward(filename=None):\n",
    "    if filename is None:\n",
    "        filename = \"./DATA/Par_file\"\n",
    "    params = {\n",
    "        \"SIMULATION_TYPE\": 1,\n",
    "        \"SAVE_FORWARD\": \".true.\"\n",
    "    }\n",
    "    specfem_write_parameters(filename, params)\n",
    "    \n",
    "def specfem2D_prep_adjoint(filename=None):\n",
    "    if filename is None:\n",
    "        filename = \"./DATA/Par_file\"\n",
    "    params = {\n",
    "        \"SIMULATION_TYPE\": 3,\n",
    "        \"SAVE_FORWARD\": \".false.\"\n",
    "    }\n",
    "    specfem_write_parameters(filename, params)\n",
    "      \n",
    "def grid(x, y, z, resX=100, resY=100):\n",
    "    \"\"\"\n",
    "    Converts 3 column data to matplotlib grid\n",
    "    \"\"\"\n",
    "    # Can be found in ./utils/Visualization/plot_kernel.py\n",
    "    from scipy.interpolate import griddata\n",
    "\n",
    "    xi = np.linspace(min(x), max(x), resX)\n",
    "    yi = np.linspace(min(y), max(y), resY)\n",
    "\n",
    "    # mlab version\n",
    "    #Z = griddata(x, y, z, xi, yi, interp='linear')\n",
    "    # scipy version\n",
    "    Z = griddata((x, y), z, (xi[None,:], yi[:,None]), method='cubic')\n",
    "\n",
    "    X, Y = np.meshgrid(xi, yi)\n",
    "    return X, Y, Z"
   ]
  },
  {
   "cell_type": "markdown",
   "id": "dcbb904c",
   "metadata": {},
   "source": [
    "### Domain: \n",
    "2D:   \n",
    "x-dir = 4000 m   \n",
    "z-dir = 4000 m   \n",
    "\n",
    "### Source location\n",
    "original x:    1000 m     \n",
    "original z:    2000 m  \n",
    "\n",
    "### Output station location: \n",
    "Station #1   AAS0001                             \n",
    "original x:    3000 m  \n",
    "original z:    2000 m  \n",
    "\n",
    "### Boundary conditions \n",
    "Type: STACEY_ABSORBING_CONDITIONS  \n",
    "absorbbottom                    = true  \n",
    "absorbright                     = true  \n",
    "absorbtop                       = true  \n",
    "absorbleft                      = true  \n",
    "\n",
    "### Velocity model:\n",
    "\n",
    "Model: P (or PI) velocity min,max =    3000 m/s              \n",
    "Model: S velocity min,max         =    1800 m/s        \n",
    "Model: density min,max            =    2700 kg/m3           "
   ]
  },
  {
   "cell_type": "markdown",
   "id": "846de4c0",
   "metadata": {},
   "source": [
    "### To reproduce this example copy the files in DATA to the specfem2d directory: specfem2d/DATA"
   ]
  },
  {
   "cell_type": "markdown",
   "id": "28e78a83",
   "metadata": {},
   "source": [
    "### Set Specfem2D directory path"
   ]
  },
  {
   "cell_type": "code",
   "execution_count": null,
   "id": "fcd32618",
   "metadata": {},
   "outputs": [],
   "source": [
    "specfem2d_path = \".\""
   ]
  },
  {
   "cell_type": "code",
   "execution_count": null,
   "id": "f70a81ec-74c9-44ab-b8cc-45816e7f575b",
   "metadata": {},
   "outputs": [],
   "source": [
    "specfem2d_bin = os.path.join('.', \"bin\")"
   ]
  },
  {
   "cell_type": "markdown",
   "id": "e4da009c",
   "metadata": {},
   "source": [
    "### 1. Run the mesher"
   ]
  },
  {
   "cell_type": "code",
   "execution_count": null,
   "id": "43625670",
   "metadata": {},
   "outputs": [],
   "source": [
    "os.chdir(specfem2d_path)\n",
    "!$specfem2d_bin/xmeshfem2D"
   ]
  },
  {
   "cell_type": "markdown",
   "id": "f12e9428",
   "metadata": {},
   "source": [
    "### 2. Run the solver"
   ]
  },
  {
   "cell_type": "code",
   "execution_count": null,
   "id": "2c2c33e7",
   "metadata": {},
   "outputs": [],
   "source": [
    "!$specfem2d_bin/xspecfem2D"
   ]
  },
  {
   "cell_type": "markdown",
   "id": "e4f9e13f",
   "metadata": {},
   "source": [
    "### 3. Plot synthetic seismogram"
   ]
  },
  {
   "cell_type": "code",
   "execution_count": null,
   "id": "40599251",
   "metadata": {},
   "outputs": [],
   "source": [
    "# Read synthetic seismogram\n",
    "synt = read_trace(\"./OUTPUT_FILES/AA.S0001.BXX.semd\")\n",
    "\n",
    "# Process data\n",
    "synt.detrend(\"simple\")\n",
    "synt.taper(0.05)\n",
    "synt.filter(\"bandpass\", freqmin=0.01, freqmax=20)\n",
    "\n",
    "fig, ax = plt.subplots(figsize=(20, 4))\n",
    "# Use the beginning time value from the file: tr.times()+tr.stats.b\n",
    "ax.plot(synt.times()+synt.stats.b, synt.data, \"r\", label=\"synt\")\n",
    "ax.set_xlim(synt.stats.b, synt.times()[-1]+synt.stats.b)\n",
    "ax.legend()\n",
    "ax.set_xlabel(\"Time (s)\");\n",
    "ax.set_ylabel(\"Displacement (m)\");"
   ]
  },
  {
   "cell_type": "code",
   "execution_count": null,
   "id": "ab65f204",
   "metadata": {},
   "outputs": [],
   "source": [
    "### 4. Snapshots \n",
    "images=[]\n",
    "# collect all .jpg files in OUTPUT_FILES directory\n",
    "fs = !ls OUTPUT_FILES/*.jpg\n",
    "# Print .jpg files\n",
    "for ea in fs:\n",
    "    images.append(dp.Image(filename=ea,format='jpg'))\n",
    "for ea in fs:\n",
    "    dp.display(Image.open(ea))"
   ]
  },
  {
   "cell_type": "code",
   "execution_count": null,
   "id": "d9d548a9-2a14-4410-8e01-bbeb2e28327e",
   "metadata": {},
   "outputs": [],
   "source": []
  }
 ],
 "metadata": {
  "kernelspec": {
   "display_name": "Python 3 (ipykernel)",
   "language": "python",
   "name": "python3"
  },
  "language_info": {
   "codemirror_mode": {
    "name": "ipython",
    "version": 3
   },
   "file_extension": ".py",
   "mimetype": "text/x-python",
   "name": "python",
   "nbconvert_exporter": "python",
   "pygments_lexer": "ipython3",
   "version": "3.11.0"
  }
 },
 "nbformat": 4,
 "nbformat_minor": 5
}
